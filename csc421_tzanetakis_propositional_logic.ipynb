{
 "cells": [
  {
   "cell_type": "markdown",
   "metadata": {},
   "source": [
    "# CSC 421 - Propositional and First-Order Logic \n",
    "\n",
    "### Instructor: George Tzanetakis \n"
   ]
  },
  {
   "cell_type": "markdown",
   "metadata": {},
   "source": [
    "1. [Readings](#readings) \n",
    "2. [Introduction and Overview](#introduction)\n",
    "3. [Wumpus world](#wumpus_world)\n",
    "4. [Logic](#logic) "
   ]
  },
  {
   "cell_type": "markdown",
   "metadata": {},
   "source": [
    "<a id='readings'></a>"
   ]
  },
  {
   "cell_type": "markdown",
   "metadata": {},
   "source": [
    "# ASSOCIATED READINGS  \n",
    "The section numbers are based on the 4th edition of the textbook. \n",
    "They also should work for the 3rd edition. \n",
    "\n",
    "CHAPTER 7 LOGICAL AGENTS \n",
    "\n",
    "* Basic: Sections 7.1, 7.2, 7.3, 7.4, and Summary\n",
    "* Expected: 7.5 \n",
    "* Advanced: All the chapter including bibliographical and historical notes"
   ]
  },
  {
   "cell_type": "markdown",
   "metadata": {},
   "source": [
    "<a id='introduction'></a>"
   ]
  },
  {
   "cell_type": "markdown",
   "metadata": {},
   "source": [
    "\n",
    "# INTRODUCTION AND OVERVIEW \n",
    "Knowledge-based agents use a process of **reasoning** over an internal **representation** of knowledge to decide what actions to take. \n",
    "\n",
    "The key insight is that by using a factored representation (like we did in CSP problems) some parts of the agent can work in a domain-independent fashion. That way information can be combined in different ways, the agents can adapt to new environments and explicitly describe goals. \n",
    "\n",
    "We begin by exploring **propositional logic** which is a less expressive subset of **first-order logic**. \n",
    "\n",
    "\n",
    "\n",
    "**KNOWLEDGE BASE** is a set of sentences in some kind of **knowledge representation language**. **Axioms** are sentences that are given. \n",
    "\n",
    "1. **TELL**: adds sentences to the KB \n",
    "2. **ASK**: a question of the knowledge base KB\n",
    "3. **inference**: derives new sentences from old sentences - can be used in either **TELL** or **ASK**\n",
    "\n",
    "\n",
    "\n",
    "A **declarative** approach to system building only **TELLS** what the system needs to know and the system figures out **how** to accomplish a particular task. In constrast a **procedural** approach encodes the desired behaviors directly as program code. In the 1970s and 1980s, advocates of these two approaches engaged in heated debates. Most successful agents often combine both declarative and procedural elements in their design. "
   ]
  },
  {
   "cell_type": "markdown",
   "metadata": {},
   "source": [
    "\n",
    "\n",
    "<img src=\"images/knowledge_based_agent.png\" width=\"50%\"/>\n"
   ]
  },
  {
   "cell_type": "markdown",
   "metadata": {},
   "source": [
    "## Knowledge-based agent \n",
    "\n",
    "Each time the agent program is called, it does three things: \n",
    "\n",
    "1. TELLS the KB what it perceives\n",
    "2. ASKS the KB what action it should perform (in the process of answering this query, reasoning is performed about the current state of the world, outcomes of possible action sequences, etc.\n",
    "3. TELLS the KB what action was chosen and then the agent executes the action\n"
   ]
  },
  {
   "cell_type": "markdown",
   "metadata": {},
   "source": [
    "## Historical sidenote \n",
    "\n",
    "\n",
    "<img src=\"images/aristotle.png\" width=\"25%\"/>\n",
    "\n",
    "* Concept of proof = series of immediately obvious reasoning steps\n",
    "* Steps of proof is obvious based on form rather than content\n",
    "\n",
    "One of the many important contributions of Aristotle. Examples\n",
    "\n",
    "* All x are y\n",
    "* All y are z\n",
    "* Therefore all x are z\n",
    "* X = dogs, Y = mammals, Z = animals\n",
    "* X = Accords, Y = Hondas, Z = Japanese"
   ]
  },
  {
   "cell_type": "markdown",
   "metadata": {},
   "source": [
    "<a id='wumpus_world'></a>"
   ]
  },
  {
   "cell_type": "markdown",
   "metadata": {},
   "source": [
    "# The WUMPUS world\n",
    "\n",
    "Wumpus can be shot but agent only has one arrow. Some roooms contain bottomless pits. One location contains gold. \n",
    "\n",
    "* **Performance measure:**: +1000 for climbing out of the cave with the gold, -1000 for falling into a pit or being eaten by wumpus, -1 for each action taken, and -10 for using the arrrow. The game ends when the agent dies or when the agent climbs out of the cave.\n",
    "* **Environment:**: A $4 x 4$ grid of rooms. The agent always starts in the square labeled $[1,1]$ facing to the right. The locations of the gold and wumpus are chosen randomly with a uniform distribution. Each square other than the start can be a pit, with probability 0.2.\n",
    "* **Actuators:** The agent can move *Forward*, *TurnLeft* by $90^o$, or *TurnRight* by $90^o$. The agent dies a horrible death if it enters a square with a pit or wumpus (unless the wumpus is dead). If an agent tries to move forward and bumps into wall, it stays in the same square. The action *Grab* can be used to pick up the gold if it is in the same square as the agent. The action *Shoot* can be used to fire an arrow in a stright line in the direction the agent is facing. The arrow continues until it either hits (and kills) the Wumpus or hits a wall. The agent has only one arrow. Fianll, the action *Climb* can be used to climb out of the cave, but only from square (1,1). \n",
    "* **Sensors:** The agent has five sensors, each of which gives a single bit of information:\n",
    "    * In the square containing the wumpus and directly adjacent (not diagonally) squares, the agent with perceive a *Stench*.\n",
    "    * In the squares directly adjacent to a pit, the agent will perceive a *Breeze*\n",
    "    * In the square where the gold is, the agent will perceive a *Glitter*\n",
    "    * When the agent walk into a wall, it will perceive a *Bump*\n",
    "    * When the wumpus is killed, it emits a woeful *Scream* that can be perceived from anywhere in the cave \n",
    "  \n",
    "\n",
    "\n",
    "\n",
    "<img src=\"images/wumpus_world.png\" width=\"70%\"/>\n",
    "\n",
    "\n",
    "\n",
    "\n",
    "\n",
    "\n"
   ]
  },
  {
   "cell_type": "markdown",
   "metadata": {},
   "source": [
    "<img src=\"images/wumpus1.png\" width=\"50%\"/>\n",
    "\n",
    "* Percept = $[Stench,Breeze,Glitter,Bump,WumpusDead]$\n",
    "* Percept = $[Stench = None, Breeze = None, Glitter = None, Bump = None, WumpusDead = None]$\n",
    "\n",
    "\n"
   ]
  },
  {
   "cell_type": "markdown",
   "metadata": {},
   "source": [
    "<img src=\"images/wumpus2.png\" width=\"50%\"/>\n",
    "\n",
    "Percept = $[none, breeze, none, none, none]$"
   ]
  },
  {
   "cell_type": "markdown",
   "metadata": {},
   "source": [
    "<img src=\"images/wumpus3.png\" width=\"50%\"/>\n",
    "Inference "
   ]
  },
  {
   "cell_type": "markdown",
   "metadata": {},
   "source": [
    "<img src=\"images/wumpus4.png\" width=\"50%\"/>\n"
   ]
  },
  {
   "cell_type": "markdown",
   "metadata": {},
   "source": [
    "The agent has “deduced” the location of the pit and the wumpus without falling into a horrible death or being eaten alive by the hungry wumpus. \n",
    "\n",
    "Note that in each case for which the agent draws a conclusion from the available information, that conclusion is *guaranteed* to be correct if the available information is correct. This is a fundamental property of **logical reasoning**. \n"
   ]
  },
  {
   "cell_type": "markdown",
   "metadata": {},
   "source": [
    "<a id='logic'></a>"
   ]
  },
  {
   "cell_type": "markdown",
   "metadata": {},
   "source": [
    "# Logic \n",
    "## Logics \n",
    "\n",
    "* Formal languages for encoding information\n",
    "* Legal transformations\n",
    "* Syntax defines the sentences in the language\n",
    "* Semantics define the “meaning” of a sentence i.e define the truth of a sentence in a world\n",
    "* For example\n",
    "    * x + 2 >= y is true in a world where x = 5 and y = 2\n",
    "    * x + 2 >= y is false in a world where x = 2 and y = 10\n",
    "\n",
    "A **model** is a mathematical abstraction that fixes the TRUE or FALSE value of each relevant sentence that corresponds \n",
    "to a possible world in the problem we are modeling. "
   ]
  },
  {
   "cell_type": "markdown",
   "metadata": {},
   "source": [
    "## Entailment\n",
    "\n",
    "* Entailment means that one thing follows from another:\n",
    "* KB |= a\n",
    "* KB entails sentence a iff a is true in all worlds where the KB is true\n",
    "* X + Y = 4 entail X – 4 = Y\n",
    "* Entailment is a relationship between sentences (syntax) that is based on semantics \n",
    "\n",
    "\n",
    "In logics we will use the term of world to mean an assignment of values to variables similar to the variable \n",
    "assignments we used for CSP problems. \n",
    "\n"
   ]
  },
  {
   "cell_type": "markdown",
   "metadata": {},
   "source": [
    "<img src=\"images/entailment.png\" width=\"75%\"/>\n"
   ]
  },
  {
   "cell_type": "markdown",
   "metadata": {},
   "source": [
    "**Logical Inference** through **model checking**. Enumerate all possible models to check that $\\alpha$ is true in all models in which KB is true i.e $M(KB) \\subseteq M(\\alpha)$\n",
    "\n",
    "Let's look at a hypothetical example. Somebody tells you that a student is either taking an AI class or a Data Mining \n",
    "class or both. Another person tells you that the same student is either taking a Data Mining class or a Visualization class or \n",
    "both. Can we conclude that the student is either taking Data Mining or Visualization or both ? \n",
    "\n",
    "A: takes AI \n",
    "B: takes Data Mining \n",
    "C: takes Visualization \n",
    "\n",
    "```\n",
    "A  B   C     ((A or B) AND (B or C))       (A OR C)\n",
    "T  T   T               T                       T\n",
    "T  T   F               T                       T\n",
    "T  F   T               T                       T\n",
    "T  F   F               F                       T\n",
    "F  T   T               T                       T \n",
    "F  T   F               T                       F\n",
    "F  F   T               T                       T\n",
    "F  F   F               F                       F\n",
    "```"
   ]
  },
  {
   "cell_type": "markdown",
   "metadata": {},
   "source": [
    "## Inference \n",
    "\n",
    "* KB |=i a sentence a can be derived by procedure **i** (the inference procedure)\n",
    "* Consequences of KB are haystack, a is needle\n",
    "    * Entailment: needle in haystack\n",
    "    * Inference: finding it\n",
    "* Sound: whenever KB |=i a it is also true that KB |= a\n",
    "* Completeness: i is complete if whenever KB |= a it is also true that KB |=i\n",
    "\n",
    "\n"
   ]
  },
  {
   "cell_type": "markdown",
   "metadata": {},
   "source": [
    "## Propositional Logic Syntax and Semantics \n",
    "\n",
    "* Syntax: specifies how sentences/expressions are formed by combining symbols \n",
    "* Semantics: specifies how we interpret these expressions \n",
    "\n",
    "\n",
    "\n",
    "* Propositional symbols $P_1$, $P_2$, WUMPUS-DEAD are sentences \n",
    "* If $S$ is a sentence so is $\\neg S$ (negation) \n",
    "* If $S_1$ and $S_2$ are sentences then $S_1 \\wedge S_2$ is a sentence (conjunction)\n",
    "* If $S_1$ and $S_2$ are sentences then $S_1 \\lor S_2$ is a sentence (disjunction) \n",
    "* If $S_1$ and $S_2$ are sentences then $S_1 \\Rightarrow S_2$ is a sentence (implication) \n",
    "* If $S_1$ and $S_2$ are sentences then $S_1 \\Leftrightarrow S_2$ is a sentence (biconditional)\n",
    "\n",
    "\n",
    "Use brackets to indicate precedence. \n",
    "The truth table below shows the semantics of how true/false values are combined \n",
    "using the logical operators. \n",
    "\n",
    "<img src=\"images/truth_table_propositional.png\" width=\"75%\"/>\n",
    "\n"
   ]
  },
  {
   "cell_type": "markdown",
   "metadata": {},
   "source": [
    "A **model** specifies a True/False value for every propositional symbol (similar to an assignment of values to variables in CSP). A simple recursive procedure can be used to evaluate any sentence as True/False given as input a **model**"
   ]
  },
  {
   "cell_type": "markdown",
   "metadata": {},
   "source": [
    "## Wumpus world sentences \n",
    "\n",
    "\n",
    "* Let $P_{ij}$ be true if there is a pit in $[i,j]$\n",
    "* Let $B_{ij}$ be true if there is breeze in $[i,j]$ \n",
    "\n",
    "\n",
    "How can you express “Pits cause breeze in adjacent squares” ? \n",
    "\n",
    "$B_{11} \\Leftrightarrow (P_{12} \\lor P_{21})$ <br> \n",
    "$B_{21} \\Leftrightarrow (P_{11} \\lor P_{22} \\lor P_{31})$ <br> \n",
    "$\\dots$\n",
    "\n",
    "Notice that a single sentence in English has to be expanded to several propositional logic sentences. \n",
    "In propositional logic we need to state that pits cause breeze in adjacent square specifically for \n",
    "every single pit and square. \n",
    "\n"
   ]
  },
  {
   "cell_type": "code",
   "execution_count": 3,
   "metadata": {},
   "outputs": [],
   "source": [
    "from utils import *\n",
    "from logic import *"
   ]
  },
  {
   "cell_type": "markdown",
   "metadata": {},
   "source": [
    "We define the symbols we use in our clauses.\n",
    "𝑃𝑥,𝑦  is true if there is a pit in [x, y].\n",
    "𝐵𝑥,𝑦  is true if the agent senses breeze in [x, y]."
   ]
  },
  {
   "cell_type": "code",
   "execution_count": 4,
   "metadata": {},
   "outputs": [],
   "source": [
    "P11, P12, P21, P22, P31, B11, B21 = expr('P11, P12, P21, P22, P31, B11, B21')"
   ]
  },
  {
   "cell_type": "markdown",
   "metadata": {},
   "source": [
    "Now we tell sentences based on `section 7.4.3`.<br/>\n",
    "There is no pit in `[1,1]`."
   ]
  },
  {
   "cell_type": "code",
   "execution_count": 5,
   "metadata": {},
   "outputs": [],
   "source": [
    "wumpus_kb.tell(~P11)"
   ]
  },
  {
   "cell_type": "markdown",
   "metadata": {},
   "source": [
    "A square is breezy if and only if there is a pit in a neighboring square. This has to be stated for each square but for now, we include just the relevant squares."
   ]
  },
  {
   "cell_type": "code",
   "execution_count": 6,
   "metadata": {},
   "outputs": [],
   "source": [
    "wumpus_kb.tell(B11 | '<=>' | ((P12 | P21)))\n",
    "wumpus_kb.tell(B21 | '<=>' | ((P11 | P22 | P31)))"
   ]
  },
  {
   "cell_type": "markdown",
   "metadata": {},
   "source": [
    "Now we include the breeze percepts for the first two squares leading up to the situation in `Figure 7.3(b)`"
   ]
  },
  {
   "cell_type": "code",
   "execution_count": 7,
   "metadata": {},
   "outputs": [],
   "source": [
    "wumpus_kb.tell(~B11)\n",
    "wumpus_kb.tell(B21)"
   ]
  },
  {
   "cell_type": "code",
   "execution_count": 8,
   "metadata": {},
   "outputs": [
    {
     "data": {
      "text/plain": [
       "[~P11,\n",
       " (~P12 | B11),\n",
       " (~P21 | B11),\n",
       " (P12 | P21 | ~B11),\n",
       " (~P11 | B21),\n",
       " (~P22 | B21),\n",
       " (~P31 | B21),\n",
       " (P11 | P22 | P31 | ~B21),\n",
       " ~B11,\n",
       " B21,\n",
       " ~P11,\n",
       " (~P12 | B11),\n",
       " (~P21 | B11),\n",
       " (P12 | P21 | ~B11),\n",
       " (~P11 | B21),\n",
       " (~P22 | B21),\n",
       " (~P31 | B21),\n",
       " (P11 | P22 | P31 | ~B21),\n",
       " ~B11,\n",
       " B21]"
      ]
     },
     "execution_count": 8,
     "metadata": {},
     "output_type": "execute_result"
    }
   ],
   "source": [
    "wumpus_kb.clauses"
   ]
  },
  {
   "cell_type": "code",
   "execution_count": 21,
   "metadata": {},
   "outputs": [
    {
     "data": {
      "text/plain": [
       "(True, False)"
      ]
     },
     "execution_count": 21,
     "metadata": {},
     "output_type": "execute_result"
    }
   ],
   "source": [
    "wumpus_kb.ask_if_true(~P11), wumpus_kb.ask_if_true(P11)"
   ]
  },
  {
   "cell_type": "markdown",
   "metadata": {},
   "source": [
    "In all models in which the knowledge base is `True`, $P_{1, 1}$ is `False`. It makes sense that `ask_if_true()` returns `True` for $\\alpha = \\neg P_{1, 1}$ and `False` for $\\alpha = P_{1, 1}$. This begs the question, what if $\\alpha$ is `True` in only a portion of all models. Do we return `True` or `False`? This doesn't rule out the possibility of $\\alpha$ being `True` but it is not entailed by the `KB` so we return `False` in such cases. We can see this is the case for $P_{2, 2}$ and $P_{3, 1}$."
   ]
  },
  {
   "cell_type": "code",
   "execution_count": 22,
   "metadata": {},
   "outputs": [
    {
     "data": {
      "text/plain": [
       "(False, False)"
      ]
     },
     "execution_count": 22,
     "metadata": {},
     "output_type": "execute_result"
    }
   ],
   "source": [
    "wumpus_kb.ask_if_true(~P22), wumpus_kb.ask_if_true(P22)"
   ]
  },
  {
   "cell_type": "markdown",
   "metadata": {},
   "source": [
    "## Propositional Theorem Proving\n",
    "\n",
    "\n",
    "We have shown how we can determine entailment by **model checking**: enumerating all possible models and showing that the sentence must hold in all models. \n",
    "\n",
    "Entailment can also be done by **theorem proving** - applying rules of inference directly to the sentenes in our knowledge base to construct a proof of the desired sentence. When the number of models is large, **theorem** proving can be much more efficient. Proofs can ignore \"irrelevant\" propositions. \n",
    "\n",
    "\n",
    "**Logical equivalence** two sentences are logically equivalent if they are true in the same set of models. \n",
    "These equivalances play the same role in logic that arithmetic identities play in ordinary mathematics. \n",
    "\n",
    "An example would be commutivity of $\\lor$ $(\\alpha \\lor \\beta) \\equiv (\\beta \\lor \\alpha)$ or biconditional elimination. \n",
    "\n",
    "A **valid** sentence is true in **all** models.  \n",
    "\n",
    "A sentence is **satisfiable** is it is true in by **some** model. \n",
    "\n",
    "**Deduction theorem** \n",
    "\n",
    "For any sentences $\\alpha$ and $\\beta$, $\\alpha \\vDash \\beta$ if and only if the sentence $(\\alpha \\Rightarrow \\beta)$ is valid \n",
    "\n",
    "**Proof by contradiction (reduction ad absurdum)** \n",
    "\n",
    "$\\alpha \\vDash \\beta$ if and only if the sentence $(\\alpha \\wedge \\neg \\beta)$ is unsatisfiable. \n",
    "\n",
    "\n",
    "\n"
   ]
  },
  {
   "cell_type": "markdown",
   "metadata": {},
   "source": [
    "## Practice for midterm \n",
    "\n",
    "Have a KB consisting 3-4 variables sometimes directly specified sometimes described in human language \n",
    "and a sentence that you want to prove is entailed by the KB. \n",
    "\n",
    "1) Show it by model checking that the models in which the KB is true are a subset of the models in which the sentence is true\n",
    "2) Show it by the deduction theorem as a single expression with implication\n",
    "3) SHow it by contradiction\n",
    "4) "
   ]
  },
  {
   "cell_type": "markdown",
   "metadata": {},
   "source": [
    "## Agents based on Propositional Logic \n",
    "\n",
    "\n"
   ]
  },
  {
   "cell_type": "markdown",
   "metadata": {},
   "source": [
    "# First-Order Logic \n",
    "\n",
    "\n",
    "\n",
    "Programming languages (such as C++, Java, or Python) are the largest class of formal languages in common use. Data structures within programs caan be used to represent facts (for example a 4x4 array can be used to represent the contents of the Wumpus world). However, they lack a general mechanism for deriving facts from other facts. \n",
    "In logic is **declarative** so that knowledge is domain-specific but inference is general and domain independent. \n",
    "In programming languages there is no easy way to express partial information/knowledge (pit in [2,2] or [3,1])\n",
    "\n",
    "\n",
    "Propositional logic is very verbose when dealing with multiple objects - there is no way to generalize rules for all objects. For example \"Squares adjacent to pits are breezy\" can only be expressed as multiple propostional sentences for every possible square and pit. \n",
    "\n",
    "\n",
    "### Sidenote I \n",
    "\n",
    "Natural languages (like English or Greek) are very expressive so perhaps they could be used for representation. However, they are complicated and more geared toward communication rather than representation. For example when we say \"Look\" we don't represent a fact but rather convey information that depends on context. \n",
    "\n",
    "\n",
    "**Sapir-Whorf** hypothis claims that our understanding of the world is strongly influenced by the language we speak. For example there are words in different languages that can not be directly translated. An example \n",
    "would be Φιλότιμο. It is a composite word consisting of Φιλία (friendship) and Τιμή (honour) and refers \n",
    "to respecting honour, prioritizing the well being of others and not yourself. Notice although there is no one to one translation I was able to communicate to you the underlying meaning. \n",
    "\n",
    "Do you think verbally (Voice in your head?) or do we use non-verbal representations ? \n",
    "\n",
    "\n",
    "### Sidenote II \n",
    "\n",
    "Speakers of the Australian aboriginal language (Guugu Yimithirr) have no words for egocentric directions such as front, back, right, left. Instead they use absolute directions - for example \"My north arm is hurting\". They are better at navigation even in a virtual reality environment than English speakers. \n",
    "\n",
    "\n",
    "### Sidenote (WEIRD) III \n",
    "\n",
    " There have been a lot of studies in cognitive science/psychology that assume that our perception or cognitive processes are not dependent on culture. In recent years it has been found that this is not the case. A lot of therse studies use the most readily available subjects i.e undergraduate students at Universities. A common acronym used for such subjects is **WEIRD**. The assumptions was that for things like what food or music someone likes culture is extremely important but perception and cognition are more universal.  **WEIRD** stands for Western, educated, and from industrialized, rich, and democratic countries. \n",
    " \n",
    " \n",
    " \n",
    " \n",
    " <img src=\"images/weird_illusion.png\" width=\"75%\"/>\n",
    "\n",
    " \n",
    "For the **San** people of the **Kalahari** desert this is not an illusion although it is clearly an illusion \n",
    "for **WEIRD** subjects. \n",
    "\n",
    "\n",
    "See the classic paper by Joe Henrich: \n",
    "https://www2.psych.ubc.ca/~henrich/pdfs/WeirdPeople.pdf"
   ]
  },
  {
   "cell_type": "markdown",
   "metadata": {},
   "source": [
    "## First-Order Logic \n",
    "\n",
    "1. **Objects**  (squares, pits, wumpuses) nouns and noun phrases \n",
    "2. **Relationships** (breezy, adjacent to, shoots) verbs, verb phrases, adjectives, adverbs \n",
    "\n",
    "For example \"Squares neighboring the wumpus are smelly\"\n",
    "\n",
    "* Objects: wumpus, squares \n",
    "* Property: smelly \n",
    "* Relationship: neighboring "
   ]
  },
  {
   "cell_type": "markdown",
   "metadata": {},
   "source": [
    "## Syntax and Semantics for FOL \n",
    "\n",
    "Example domain (5 objects): Richard, John, left leg of Richard, left leg of John, and crown \n",
    "\n",
    "Relationships are sets of tupples (explicit enumeration similar to CSP): \n",
    "<Richard, John> \n",
    "<John, Richard> \n",
    "\n",
    "Unary relations or properties: \"person\" property is True of Richard and John \n",
    "\n",
    "<img src=\"images/fol_richard.png\" width=\"75%\"/>\n",
    "\n",
    "\n",
    "## Syntax \n",
    "\n",
    "**Constant symbols** stand for objects \n",
    "**Predicate symbols** stand for relationships \n",
    "**Function symbols** stand for functions \n",
    "\n",
    "Each predicate and function symbol comes with an **arity** that fixes the number of arguments. \n",
    "\n",
    "**Functions** can have multiple argument but are just a different way of referring to an object. \n",
    "The dog walker of Gemma and Fido refers to a person. \n",
    "Helen walks Gemma and Fido (Gemma and Fido are walked by Helen) -> state that a relationship is true \n",
    "\n",
    "* **Atomic sentences** state facts about objects \n",
    "* **Complex sentences** are formed by using **logical connectives** to construct more complex sentences. \n",
    "* **Quantifiers** express properties of entire collections of objects \n",
    "* **Universal quantifier** $\\forall$ All kings are persons can be written as $\\forall x King(x) \\Rightarrow Person(x)$\n",
    "\n",
    "The symbol $x$ is called a **variable**. Variables are written as lower case letters. "
   ]
  },
  {
   "cell_type": "markdown",
   "metadata": {},
   "source": [
    "### Universal quantification $\\forall$\n",
    "\n",
    "All kings are persons can be written as $\\forall x King(x) \\Rightarrow Person(x)$\n",
    "\n",
    "For all x, if x is a king then x is person. \n",
    "\n",
    "One way to think about this is as a pattern for generating sentences with specific objects. \n",
    "For example we can have $x$ be Richard or John or any other object (in our domain the leg of John, the leg of Richard, or the crown). \n",
    "\n",
    "Here are the generated sentences: \n",
    "\n",
    "* Richard is king $\\Rightarrow$ Richard is a person \n",
    "* John is king $\\Rightarrow$ John is a person \n",
    "* Richard's left leg is a king $\\Rightarrow$ Richard's left leg is a person \n",
    "* John's left leg is a king $\\Rightarrow$ John's left leg is a person \n",
    "* The crown is a king $\\Rightarrow$ the crown is a person \n",
    "\n",
    "Note that implication is true whenever the premise is false - regardless of the truth of the conculsion. \n",
    "By using **implication** we end up asserting the conclusion of the rule just for those ojbects for which the premise is true and saying nothing at all about those objects for which the premise is false. \n",
    "\n",
    "A common mistake is to use conjuction $\\wedge$ instead of implication: $\\forall x King(x) \\wedge Person(x)$\n",
    "This would expand to: \n",
    "* Richard is a king $\\wedge$ Richard is a person. \n",
    "* John is a king $\\wedge$ John is a person. \n",
    "* Richard's left leg is a king $\\wedge$ Richard's left leg is a person. \n",
    "* ... \n",
    "\n",
    "Obviously this is not what we want. "
   ]
  },
  {
   "cell_type": "markdown",
   "metadata": {},
   "source": [
    "### Existential quantification $\\exists$\n",
    "\n",
    "King John has a crown on his head <br> \n",
    "$\\exists x Crown(x) \\wedge OnHead(x, John)$ \n",
    "\n",
    "The sentence is true in *at least* one sentence when substituting the variable x with specific objects. \n",
    "For example at least one of the following is true: \n",
    "\n",
    "* Richard is a crown $\\wedge$ Rich is on John's head \n",
    "* John is a crown $\\wedge$ John is on Jonh's head \n",
    "* Richard's left leg is crown $\\wedge$ Richard's left leg is on John's head \n",
    "* John's left leg is a crown $\\wedge$ John's left leg is on John's head \n",
    "* The crown is a crown $\\wedge$ the crown is on John's head. \n",
    "\n",
    "For existential quantificaiton the natural connective to use is $wedge$. \n",
    "Notice that using implication does not work well. For example consider \n",
    "\n",
    "* $\\exists x Crown(x) \\Rightarrow OnHead(x,John)$ \n",
    "\n",
    "Expands to: \n",
    "* Richard is crown $\\Rightarrow$ Ricahrd is on John's head \n",
    "* John is a crown $\\Rightarrow$ John is on John's head \n",
    "\n",
    "If Richard is not a crown then the first assertion is true and the existential is satisfied \n",
    "which is not what we want. \n",
    "\n",
    "\n",
    "### Equaltiy symbol \n",
    "\n",
    "The equality symbol is used to indicate that two terms refer to the same object. \n",
    "For exampole Father(Bart) = Homer \n"
   ]
  },
  {
   "cell_type": "markdown",
   "metadata": {},
   "source": [
    "### Translating English to FOL \n",
    "\n",
    "I strongly advise to use parentheses instead of relying on precedence of operators. \n",
    "Also notice that there are always several (equivalent) sentences in first0-order logic \n",
    "that correspond to a given English sentence. \n",
    "\n",
    "In predicates a common convention is that the first argument is treated as the subject. For example \n",
    "\"The father of Bart is Homer) is written as father(Bart, Homer) rather than father(Homer, Bart). \n",
    "Also notice the use of equality and inequality in the statements below. \n",
    "\n",
    "\n",
    "Examples: \n",
    "\n",
    "* All students are smart <br> \n",
    "$\\forall x Student(x) \\Rightarrow Smart(x)$\n",
    "* There exists a student <br> \n",
    "$\\exists x Student(x)$\n",
    "* There exists a smart student <br> \n",
    "$\\exists x Student(x) \\wedge Smart(x)$\n",
    "* Every student studies with some student  <br> \n",
    "$\\forall x Student(x) \\Rightarrow \\exists y (Student(y) \\wedge StudiesWith(x,y))$\n",
    "* Every student studies with some other student  \n",
    "$\\forall x Student(x) \\Rightarrow \\exists y (Student(y) \\wedge \\neg (x=y) \\wedge StudiesWith(x,y))$\n",
    "* There is a student who studies with every other student <br> \n",
    "$\\exists x (Student(x) \\wedge \\forall y (Student(y) \\wedge \\neg (x=y) ) \\Rightarrow StudiesWith(y,x)$\n",
    "* George is a student <br> \n",
    "$Student(George)$ \n",
    "* George takes either AI or Data Mining (but not both) <br> \n",
    "$Takes(George, AI) \\Leftrightarrow \\neg \n",
    "Takes(George, Datamining)$\n",
    "* George takes both AI ande Data mining <br> \n",
    "$Takes(George, AI) \\wedge Takes(George, Datamining)$\n",
    "* No student studies with George <br>\n",
    "$\\neg \\exists x (Student(x) \\wedge StudiesWith(x, George)$\n",
    "* George has at least on sister <br> \n",
    "$\\exists x SisterOf(x,George)$\n",
    "* George has no sister <br> \n",
    "$\\neg \\exists x SisterOf(x,George)$\n",
    "* George has at most one sister <br> \n",
    "$\\forall x \\forall y (SisterOf(x,George) \\wedge SisterOf(y,George) \\Rightarrow x = y)$\n",
    "* George has exactly one sister <br> \n",
    "$\\exists x (SisterOf(x,George) \\wedge \\forall y (SisterOf(y,George) \\Rightarrow x = y))$\n",
    "* George has at least two sisters <br> \n",
    "$\\exists x \\exists y (SisterOf(x,George) \\wedge (SisterOf(y,George) \\wedge \\neg(x=y))$\n",
    "* Every student takes at least one course <br> \n",
    "$\\forall x (Student(x) \\Rightarrow \\exists y (Course(y) \\wedge Takes(x,y))) $\n",
    "* Only one student failed AI. <br>\n",
    "$\\exists x (Student(x) \\wedge Failed(x,AI) \\wedge \\forall y (Student(y) \\wedge Failed(y,AI) \\Rightarrow x=y))$\n",
    "* No student failed AI, but at least one student failed Data Mining <br> \n",
    "$\\neg \\exists x (Student(x) \\wedge Failed(x,AI)) \\wedge \\exists x (Student (x) \\wedge Failed(x,DataMining))$ \n",
    "* Every students who takes AI also takes Data Mining. <br> \n",
    "$\\forall x (Student(x) \\wedge Takes(x,AI)) \\Rightarrow Takes(x,DataMining)$ \n",
    "* No student can fool all the other students <br> \n",
    "$\\neg \\exists x (Student(x) \\wedge \\forall y (Student(y) \\wedge \\neg (x=y) ⇒ Fools(x,y)))$ "
   ]
  },
  {
   "cell_type": "markdown",
   "metadata": {},
   "source": [
    "## Kinship Domain \n",
    "\n"
   ]
  },
  {
   "cell_type": "markdown",
   "metadata": {},
   "source": [
    "Let's look at a slightly more useful example than the King Richard and John example. The kinship domain \n",
    "refers to knowledge about family relationships. \n",
    "\n",
    "An example KB can include things like:\n",
    "\n",
    "* Facts:\n",
    "    * \"Elizabeth is the mother of Charles”\n",
    "    * “Charles is the father of William”\n",
    "* Rules:\n",
    "    * One’s grandmother is the mother of one’s parent”\n",
    "* Object: people\n",
    "    * Unary predicate: Male, Female\n",
    "    * Binary predicate: Son, Spouse, Wife, Husband, Grandparent, Grandchild, Cousin, Aunt, and Uncle\n",
    "* Function: Mother, Father\n",
    "\n",
    "\n",
    "\n",
    "* Parent(Homer,Bart) \n",
    "* One s mom is one s female parent <br> \n",
    "$\\forall m,c Mother(c) = m \\Leftrightarrow Female(m) \\wedge Parnet(m,c)$\n",
    "* Parent and child are inverse relations <br> \n",
    "$\\forall p,c Parent(p,c) \\Leftrightarrow Child(c,p)$ \n",
    "* A grandparent is a parent of one's parent <br> \n",
    "$\\forall g,c GrandParent(g,c) \\Leftrightarrow \\exists p Parent(g,p) \\wedge Parent(p,c)$\n",
    "\n",
    "\n",
    "\n",
    "The cool feature of creating a knowledge base using FOL is that it allows to enter facts \n",
    "and then create all sorts of complex queries by combining variables and constants in \n",
    "FOL sentences. Relational algebra which is the theory behind database languages such as SQL can be viewed \n",
    "as a subset of FOL.\n",
    "\n",
    "\n",
    "You can read in your textbook about the Electronic Circuits Domain which can be used for verifying properties of circuits. Hardware verification is an important application of theorem proving systems. \n",
    "\n",
    "\n",
    "\n",
    "### Advanced \n",
    "\n",
    "You can read more about these connections starting from the Wikipedia entry on Datalog. \n",
    "https://en.wikipedia.org/wiki/Datalog\n",
    "\n"
   ]
  },
  {
   "cell_type": "markdown",
   "metadata": {},
   "source": [
    "## Inference in Propositional Logic \n",
    "\n",
    "Conjuctive Normal form (CNF) is a simplified and equivalent way of writing sentences \n",
    "in a canonical way with fewer symbols. It makes the implementation of inference simpler \n",
    "but it is not as readable/understandable for humans. \n",
    "\n",
    "Every sentence of propositional laogic is logically equivalent to a conjuction of clauses. \n",
    "The conversion to CNF can be performed as follows: \n",
    "\n",
    "1. Eliminate biconditionals \n",
    "2. Eliminate implications \n",
    "3. Move $\\neg$ inwards by repeated application of double negation elimination and DeMorgan \n",
    "4. Apply distributivity law \n",
    "\n",
    "Now we have our sentence as a conjuction of clauses and it is easier to perform inference using \n",
    "resolution. \n",
    "\n",
    "\n",
    "You can read about resolution in the textbook. It basically consists of repeated application \n",
    "of rules that simplify the CNF sentences until the query can be proven (if that is possible). \n",
    "Resolution is a complete and sound inference procedure for Propostional Logic. \n",
    "\n",
    "Definite clauses and Horn Clauses are restricted forms of Propositional Logic. They are still \n",
    "quite expressive and lots of problems can be solved with them. If Horn Clauses are used inference \n",
    "using theorem proving can be performed much more efficiently. One can start from the KB and keep \n",
    "adding clauses based on the existing sentences until eventually the query is generated (forward chaining) \n",
    "or one can start from the goal and work \"backwards\" using the KB (backward chaining). In addition to \n",
    "being more efficient forward and backward chaining produce \"proofs\" (i.e sequences of transformation steps) \n",
    "that are more easy to understand and interpret by humans. \n",
    "\n"
   ]
  },
  {
   "cell_type": "markdown",
   "metadata": {},
   "source": [
    "## Inference in First-Order Logic \n",
    "\n",
    "\n",
    "It is possible to automatically convert any FOL KB to a propositional one by converting all sentences with variables to multiple sentences where the variables are substituted with objects. Once this process is completed one can run the inference algorithms we learned in Propositional Logic to answer queries. This approach works \n",
    "but it is not efficient. \n",
    "\n",
    "It is also possible to extend both resolution to FOL as well as forward/backward chaining if the FOL knowledge base consists of Horn clauses. Prolog is programming language based on Horn clauses. \n",
    "\n",
    "### Advanced \n",
    "\n",
    "Read chapter 9 of the textbook about various inference procedures for FOL and chapter 10 about \n",
    "how FOL can be used to model different aspects of the world. \n"
   ]
  },
  {
   "cell_type": "code",
   "execution_count": null,
   "metadata": {},
   "outputs": [],
   "source": []
  }
 ],
 "metadata": {
  "kernelspec": {
   "display_name": "Python 3 (ipykernel)",
   "language": "python",
   "name": "python3"
  },
  "language_info": {
   "codemirror_mode": {
    "name": "ipython",
    "version": 3
   },
   "file_extension": ".py",
   "mimetype": "text/x-python",
   "name": "python",
   "nbconvert_exporter": "python",
   "pygments_lexer": "ipython3",
   "version": "3.10.12"
  }
 },
 "nbformat": 4,
 "nbformat_minor": 4
}
