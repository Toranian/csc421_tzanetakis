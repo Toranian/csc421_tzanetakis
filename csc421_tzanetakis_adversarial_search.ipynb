{
 "cells": [
  {
   "cell_type": "markdown",
   "metadata": {
    "slideshow": {
     "slide_type": "slide"
    }
   },
   "source": [
    "# CSC 421 - Adversarial Search \n",
    "\n",
    "### Instructor: George Tzanetakis \n"
   ]
  },
  {
   "cell_type": "markdown",
   "metadata": {},
   "source": [
    "# Summary \n",
    "\n",
    "This a chapter not typically covered in CSC421 so only a summary of what is covered is provided. \n",
    "\n",
    "* A game can be defined by the **inital state**  (how the board is set up), the legal **actions** in each state, the **result** of each action, a **terminal test** (game over), and a utility function that applies to **terminal states**\n",
    "* In two-player zero-sum games with **perfect information**, the **minmax** algorithm can select optimal moves by a depth-first enumeration of the game tree.\n",
    "* The **alpha-beta** search algorithm computes the same optimal move as **minmax**, but achieves much greater efficiency by eliminating subtrees that are provably irrelevant.\n",
    "* Usually, it is not feasible to consider the whole game tree (even with alpha-beta), so we need to cut the search off at some point and apply a heuristic **evaluation function** that estimates the utility of a state.\n",
    "* Many game programs precompute tables of best moves in the opening and endgame so that they can look up a move rather than search.\n",
    "* Games of chance can be handled by an extension to the **minmax** algorithm that evaluates a **chance node** by taking the average utility of all its children, weighted by the probability of each child.\n",
    "* Optimal play in games of **imperfect information**, such as bridge, require reasoning about the current and future **belief states** of each player. A simple approximation can be obtained by averaging the value of an action over each possible configuration of missing information.\n",
    "\n"
   ]
  },
  {
   "cell_type": "code",
   "execution_count": null,
   "metadata": {},
   "outputs": [],
   "source": []
  },
  {
   "cell_type": "code",
   "execution_count": null,
   "metadata": {},
   "outputs": [],
   "source": []
  },
  {
   "cell_type": "code",
   "execution_count": null,
   "metadata": {},
   "outputs": [],
   "source": []
  }
 ],
 "metadata": {
  "kernelspec": {
   "display_name": "Python 3 (ipykernel)",
   "language": "python",
   "name": "python3"
  },
  "language_info": {
   "codemirror_mode": {
    "name": "ipython",
    "version": 3
   },
   "file_extension": ".py",
   "mimetype": "text/x-python",
   "name": "python",
   "nbconvert_exporter": "python",
   "pygments_lexer": "ipython3",
   "version": "3.11.4"
  }
 },
 "nbformat": 4,
 "nbformat_minor": 4
}
